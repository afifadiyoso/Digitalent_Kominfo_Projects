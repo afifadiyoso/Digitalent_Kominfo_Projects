{
  "nbformat": 4,
  "nbformat_minor": 0,
  "metadata": {
    "colab": {
      "provenance": []
    },
    "kernelspec": {
      "name": "ir",
      "display_name": "R"
    },
    "language_info": {
      "name": "R"
    }
  },
  "cells": [
    {
      "cell_type": "markdown",
      "source": [
        "# **Chapter 1: R Fundamentals**"
      ],
      "metadata": {
        "id": "TnAgY2mxQHsR"
      }
    },
    {
      "cell_type": "markdown",
      "source": [
        "# **Membuat Data Frame**"
      ],
      "metadata": {
        "id": "QTPAek3_Pic7"
      }
    },
    {
      "cell_type": "code",
      "execution_count": null,
      "metadata": {
        "colab": {
          "base_uri": "https://localhost:8080/",
          "height": 69
        },
        "id": "YzAt97n9PWBl",
        "outputId": "1fe5784b-be37-4553-fe08-9ef4ac8be6ea"
      },
      "outputs": [
        {
          "output_type": "display_data",
          "data": {
            "text/html": [
              "<style>\n",
              ".list-inline {list-style: none; margin:0; padding: 0}\n",
              ".list-inline>li {display: inline-block}\n",
              ".list-inline>li:not(:last-child)::after {content: \"\\00b7\"; padding: 0 .5ex}\n",
              "</style>\n",
              "<ol class=list-inline><li>4</li><li>5</li><li>6</li></ol>\n"
            ],
            "text/markdown": "1. 4\n2. 5\n3. 6\n\n\n",
            "text/latex": "\\begin{enumerate*}\n\\item 4\n\\item 5\n\\item 6\n\\end{enumerate*}\n",
            "text/plain": [
              "[1] 4 5 6"
            ]
          },
          "metadata": {}
        },
        {
          "output_type": "display_data",
          "data": {
            "text/html": [
              "1"
            ],
            "text/markdown": "1",
            "text/latex": "1",
            "text/plain": [
              "[1] 1"
            ]
          },
          "metadata": {}
        },
        {
          "output_type": "display_data",
          "data": {
            "text/html": [
              "6"
            ],
            "text/markdown": "6",
            "text/latex": "6",
            "text/plain": [
              "[1] 6"
            ]
          },
          "metadata": {}
        }
      ],
      "source": [
        "df <- data.frame(a = c(1, 2, 3), b = c(4, 5, 6), c = c(7, 8, 9))\n",
        "df[,2]\n",
        "df[1,1]\n",
        "df[3,2]"
      ]
    },
    {
      "cell_type": "markdown",
      "source": [
        "# **Membuat Vector dan Index Position**"
      ],
      "metadata": {
        "id": "mvJfCAX1PxWl"
      }
    },
    {
      "cell_type": "code",
      "source": [
        "x <- c(\"red\",\"blue\",\"yellow\",\"orange\",\"green\",\"purple\")\n",
        "y <- x[c(2,3,4)]\n",
        "y"
      ],
      "metadata": {
        "colab": {
          "base_uri": "https://localhost:8080/",
          "height": 34
        },
        "id": "9gELvqAQPzU4",
        "outputId": "57e80bfa-6358-44b5-9f9c-e4613cd6885b"
      },
      "execution_count": null,
      "outputs": [
        {
          "output_type": "display_data",
          "data": {
            "text/html": [
              "<style>\n",
              ".list-inline {list-style: none; margin:0; padding: 0}\n",
              ".list-inline>li {display: inline-block}\n",
              ".list-inline>li:not(:last-child)::after {content: \"\\00b7\"; padding: 0 .5ex}\n",
              "</style>\n",
              "<ol class=list-inline><li>'blue'</li><li>'yellow'</li><li>'orange'</li></ol>\n"
            ],
            "text/markdown": "1. 'blue'\n2. 'yellow'\n3. 'orange'\n\n\n",
            "text/latex": "\\begin{enumerate*}\n\\item 'blue'\n\\item 'yellow'\n\\item 'orange'\n\\end{enumerate*}\n",
            "text/plain": [
              "[1] \"blue\"   \"yellow\" \"orange\""
            ]
          },
          "metadata": {}
        }
      ]
    },
    {
      "cell_type": "markdown",
      "source": [
        "# **Mengisi Syntax Factor**"
      ],
      "metadata": {
        "id": "IC_PdWJ9P3IX"
      }
    },
    {
      "cell_type": "code",
      "source": [
        "x <- as.factor(c(\"grape\",\"apples\",\"pear\",\"cherry\",\"mango\",\"panda\"))\n",
        "x\n",
        "x <- as.factor(c(\"grape\",\"apples\",\"pear\",\"cherry\",\"mango\",\"apples\"))\n",
        "x"
      ],
      "metadata": {
        "colab": {
          "base_uri": "https://localhost:8080/",
          "height": 86
        },
        "id": "d-RX75w2P4Jh",
        "outputId": "e2db6fd8-4573-49c8-ddc4-f5b259c5bb4d"
      },
      "execution_count": null,
      "outputs": [
        {
          "output_type": "display_data",
          "data": {
            "text/html": [
              "<style>\n",
              ".list-inline {list-style: none; margin:0; padding: 0}\n",
              ".list-inline>li {display: inline-block}\n",
              ".list-inline>li:not(:last-child)::after {content: \"\\00b7\"; padding: 0 .5ex}\n",
              "</style>\n",
              "<ol class=list-inline><li>grape</li><li>apples</li><li>pear</li><li>cherry</li><li>mango</li><li>panda</li></ol>\n",
              "\n",
              "<details>\n",
              "\t<summary style=display:list-item;cursor:pointer>\n",
              "\t\t<strong>Levels</strong>:\n",
              "\t</summary>\n",
              "\t<style>\n",
              "\t.list-inline {list-style: none; margin:0; padding: 0}\n",
              "\t.list-inline>li {display: inline-block}\n",
              "\t.list-inline>li:not(:last-child)::after {content: \"\\00b7\"; padding: 0 .5ex}\n",
              "\t</style>\n",
              "\t<ol class=list-inline><li>'apples'</li><li>'cherry'</li><li>'grape'</li><li>'mango'</li><li>'panda'</li><li>'pear'</li></ol>\n",
              "</details>"
            ],
            "text/markdown": "1. grape\n2. apples\n3. pear\n4. cherry\n5. mango\n6. panda\n\n\n\n**Levels**: 1. 'apples'\n2. 'cherry'\n3. 'grape'\n4. 'mango'\n5. 'panda'\n6. 'pear'\n\n\n",
            "text/latex": "\\begin{enumerate*}\n\\item grape\n\\item apples\n\\item pear\n\\item cherry\n\\item mango\n\\item panda\n\\end{enumerate*}\n\n\\emph{Levels}: \\begin{enumerate*}\n\\item 'apples'\n\\item 'cherry'\n\\item 'grape'\n\\item 'mango'\n\\item 'panda'\n\\item 'pear'\n\\end{enumerate*}\n",
            "text/plain": [
              "[1] grape  apples pear   cherry mango  panda \n",
              "Levels: apples cherry grape mango panda pear"
            ]
          },
          "metadata": {}
        },
        {
          "output_type": "display_data",
          "data": {
            "text/html": [
              "<style>\n",
              ".list-inline {list-style: none; margin:0; padding: 0}\n",
              ".list-inline>li {display: inline-block}\n",
              ".list-inline>li:not(:last-child)::after {content: \"\\00b7\"; padding: 0 .5ex}\n",
              "</style>\n",
              "<ol class=list-inline><li>grape</li><li>apples</li><li>pear</li><li>cherry</li><li>mango</li><li>apples</li></ol>\n",
              "\n",
              "<details>\n",
              "\t<summary style=display:list-item;cursor:pointer>\n",
              "\t\t<strong>Levels</strong>:\n",
              "\t</summary>\n",
              "\t<style>\n",
              "\t.list-inline {list-style: none; margin:0; padding: 0}\n",
              "\t.list-inline>li {display: inline-block}\n",
              "\t.list-inline>li:not(:last-child)::after {content: \"\\00b7\"; padding: 0 .5ex}\n",
              "\t</style>\n",
              "\t<ol class=list-inline><li>'apples'</li><li>'cherry'</li><li>'grape'</li><li>'mango'</li><li>'pear'</li></ol>\n",
              "</details>"
            ],
            "text/markdown": "1. grape\n2. apples\n3. pear\n4. cherry\n5. mango\n6. apples\n\n\n\n**Levels**: 1. 'apples'\n2. 'cherry'\n3. 'grape'\n4. 'mango'\n5. 'pear'\n\n\n",
            "text/latex": "\\begin{enumerate*}\n\\item grape\n\\item apples\n\\item pear\n\\item cherry\n\\item mango\n\\item apples\n\\end{enumerate*}\n\n\\emph{Levels}: \\begin{enumerate*}\n\\item 'apples'\n\\item 'cherry'\n\\item 'grape'\n\\item 'mango'\n\\item 'pear'\n\\end{enumerate*}\n",
            "text/plain": [
              "[1] grape  apples pear   cherry mango  apples\n",
              "Levels: apples cherry grape mango pear"
            ]
          },
          "metadata": {}
        }
      ]
    },
    {
      "cell_type": "markdown",
      "source": [
        "# **Menggunakan Function**"
      ],
      "metadata": {
        "id": "Y9FXnD9dP5wG"
      }
    },
    {
      "cell_type": "code",
      "source": [
        "#Menggunakan Function\n",
        "add_numbers <- function(x,y){\n",
        "  + x+y}\n",
        "add_numbers(3,3)"
      ],
      "metadata": {
        "colab": {
          "base_uri": "https://localhost:8080/",
          "height": 34
        },
        "id": "X87g_WWrP9RU",
        "outputId": "9c942ee2-7c37-442e-cb79-10585c7f325f"
      },
      "execution_count": null,
      "outputs": [
        {
          "output_type": "display_data",
          "data": {
            "text/html": [
              "6"
            ],
            "text/markdown": "6",
            "text/latex": "6",
            "text/plain": [
              "[1] 6"
            ]
          },
          "metadata": {}
        }
      ]
    },
    {
      "cell_type": "markdown",
      "source": [
        "# **Mengganti Missing Value**"
      ],
      "metadata": {
        "id": "kFRhH5B5QAGC"
      }
    },
    {
      "cell_type": "code",
      "source": [
        "df <- c(1,2,3,4,5,6,NA,7,8,9,NA)\n",
        "df\n",
        "mean_replace <- function(df){\n",
        "df[is.na(df)] <- mean(df, na.rm = TRUE)\n",
        "return (df)}\n",
        "df <- mean_replace(df)\n",
        "df"
      ],
      "metadata": {
        "colab": {
          "base_uri": "https://localhost:8080/",
          "height": 52
        },
        "id": "JrpcZu0DQCnJ",
        "outputId": "f99d2159-c593-4b77-8540-e8346c7d9d67"
      },
      "execution_count": null,
      "outputs": [
        {
          "output_type": "display_data",
          "data": {
            "text/html": [
              "<style>\n",
              ".list-inline {list-style: none; margin:0; padding: 0}\n",
              ".list-inline>li {display: inline-block}\n",
              ".list-inline>li:not(:last-child)::after {content: \"\\00b7\"; padding: 0 .5ex}\n",
              "</style>\n",
              "<ol class=list-inline><li>1</li><li>2</li><li>3</li><li>4</li><li>5</li><li>6</li><li>&lt;NA&gt;</li><li>7</li><li>8</li><li>9</li><li>&lt;NA&gt;</li></ol>\n"
            ],
            "text/markdown": "1. 1\n2. 2\n3. 3\n4. 4\n5. 5\n6. 6\n7. &lt;NA&gt;\n8. 7\n9. 8\n10. 9\n11. &lt;NA&gt;\n\n\n",
            "text/latex": "\\begin{enumerate*}\n\\item 1\n\\item 2\n\\item 3\n\\item 4\n\\item 5\n\\item 6\n\\item <NA>\n\\item 7\n\\item 8\n\\item 9\n\\item <NA>\n\\end{enumerate*}\n",
            "text/plain": [
              " [1]  1  2  3  4  5  6 NA  7  8  9 NA"
            ]
          },
          "metadata": {}
        },
        {
          "output_type": "display_data",
          "data": {
            "text/html": [
              "<style>\n",
              ".list-inline {list-style: none; margin:0; padding: 0}\n",
              ".list-inline>li {display: inline-block}\n",
              ".list-inline>li:not(:last-child)::after {content: \"\\00b7\"; padding: 0 .5ex}\n",
              "</style>\n",
              "<ol class=list-inline><li>1</li><li>2</li><li>3</li><li>4</li><li>5</li><li>6</li><li>5</li><li>7</li><li>8</li><li>9</li><li>5</li></ol>\n"
            ],
            "text/markdown": "1. 1\n2. 2\n3. 3\n4. 4\n5. 5\n6. 6\n7. 5\n8. 7\n9. 8\n10. 9\n11. 5\n\n\n",
            "text/latex": "\\begin{enumerate*}\n\\item 1\n\\item 2\n\\item 3\n\\item 4\n\\item 5\n\\item 6\n\\item 5\n\\item 7\n\\item 8\n\\item 9\n\\item 5\n\\end{enumerate*}\n",
            "text/plain": [
              " [1] 1 2 3 4 5 6 5 7 8 9 5"
            ]
          },
          "metadata": {}
        }
      ]
    },
    {
      "cell_type": "markdown",
      "source": [
        "# **Chapter 2: Statistic -  Visualization with R**"
      ],
      "metadata": {
        "id": "KbLJFlbyQNQy"
      }
    },
    {
      "cell_type": "code",
      "source": [
        "library(readr)\n",
        "trees_df <- read.csv(\"https://storage.googleapis.com/dqlab-dataset/trees.csv\")"
      ],
      "metadata": {
        "id": "7LLn0XDgQS_R"
      },
      "execution_count": null,
      "outputs": []
    },
    {
      "cell_type": "markdown",
      "source": [
        "# **Mengecek Struktur Data**\n",
        "> * Menampilkan nama kolom dan tipe data setiap kolom.\n",
        "> * Terdapat kesalahan penulisan untuk kolom Girth, seharusnya nama kolom tersebut adalah Diameter.\n",
        "> * Satuan dari kolom Girth/ Diameter adalah inch, seharusnya adalah ft,sehingga perlu ditambahkan kolom (diameter_ft) yang berisi hasil konversi inch – ft ( 1 inch = 0.08333 ft).\n",
        "> * Memunculkan beberapa baris dari dataset.\n",
        "> * Menampilkan hasil statistik deskriptif (min, max, median, mean, dan quartil) untuk semua kolom.\n",
        "> * Mengecek missing value."
      ],
      "metadata": {
        "id": "bvImVMgaQYtU"
      }
    },
    {
      "cell_type": "code",
      "source": [
        "names(trees_df)\n",
        "str(trees_df)\n",
        "names(trees_df)[1] <- \"Diameter\"\n",
        "trees_df$diameter_ft <- trees_df$Diameter*0.08333\n",
        "head(trees_df)\n",
        "summary(trees_df)\n",
        "is.na(trees_df)"
      ],
      "metadata": {
        "colab": {
          "base_uri": "https://localhost:8080/",
          "height": 1000
        },
        "id": "bqDctwomQgby",
        "outputId": "55716c39-d55a-41f6-a7a4-ce4bf1e709db"
      },
      "execution_count": null,
      "outputs": [
        {
          "output_type": "display_data",
          "data": {
            "text/html": [
              "<style>\n",
              ".list-inline {list-style: none; margin:0; padding: 0}\n",
              ".list-inline>li {display: inline-block}\n",
              ".list-inline>li:not(:last-child)::after {content: \"\\00b7\"; padding: 0 .5ex}\n",
              "</style>\n",
              "<ol class=list-inline><li>'Girth'</li><li>'Height'</li><li>'Volume'</li></ol>\n"
            ],
            "text/markdown": "1. 'Girth'\n2. 'Height'\n3. 'Volume'\n\n\n",
            "text/latex": "\\begin{enumerate*}\n\\item 'Girth'\n\\item 'Height'\n\\item 'Volume'\n\\end{enumerate*}\n",
            "text/plain": [
              "[1] \"Girth\"  \"Height\" \"Volume\""
            ]
          },
          "metadata": {}
        },
        {
          "output_type": "stream",
          "name": "stdout",
          "text": [
            "'data.frame':\t31 obs. of  3 variables:\n",
            " $ Girth : num  8.3 8.6 8.8 10.5 10.7 10.8 11 11 11.1 11.2 ...\n",
            " $ Height: int  70 65 63 72 81 83 66 75 80 75 ...\n",
            " $ Volume: num  10.3 10.3 10.2 16.4 18.8 19.7 15.6 18.2 22.6 19.9 ...\n"
          ]
        },
        {
          "output_type": "display_data",
          "data": {
            "text/html": [
              "<table class=\"dataframe\">\n",
              "<caption>A data.frame: 6 × 4</caption>\n",
              "<thead>\n",
              "\t<tr><th></th><th scope=col>Diameter</th><th scope=col>Height</th><th scope=col>Volume</th><th scope=col>diameter_ft</th></tr>\n",
              "\t<tr><th></th><th scope=col>&lt;dbl&gt;</th><th scope=col>&lt;int&gt;</th><th scope=col>&lt;dbl&gt;</th><th scope=col>&lt;dbl&gt;</th></tr>\n",
              "</thead>\n",
              "<tbody>\n",
              "\t<tr><th scope=row>1</th><td> 8.3</td><td>70</td><td>10.3</td><td>0.691639</td></tr>\n",
              "\t<tr><th scope=row>2</th><td> 8.6</td><td>65</td><td>10.3</td><td>0.716638</td></tr>\n",
              "\t<tr><th scope=row>3</th><td> 8.8</td><td>63</td><td>10.2</td><td>0.733304</td></tr>\n",
              "\t<tr><th scope=row>4</th><td>10.5</td><td>72</td><td>16.4</td><td>0.874965</td></tr>\n",
              "\t<tr><th scope=row>5</th><td>10.7</td><td>81</td><td>18.8</td><td>0.891631</td></tr>\n",
              "\t<tr><th scope=row>6</th><td>10.8</td><td>83</td><td>19.7</td><td>0.899964</td></tr>\n",
              "</tbody>\n",
              "</table>\n"
            ],
            "text/markdown": "\nA data.frame: 6 × 4\n\n| <!--/--> | Diameter &lt;dbl&gt; | Height &lt;int&gt; | Volume &lt;dbl&gt; | diameter_ft &lt;dbl&gt; |\n|---|---|---|---|---|\n| 1 |  8.3 | 70 | 10.3 | 0.691639 |\n| 2 |  8.6 | 65 | 10.3 | 0.716638 |\n| 3 |  8.8 | 63 | 10.2 | 0.733304 |\n| 4 | 10.5 | 72 | 16.4 | 0.874965 |\n| 5 | 10.7 | 81 | 18.8 | 0.891631 |\n| 6 | 10.8 | 83 | 19.7 | 0.899964 |\n\n",
            "text/latex": "A data.frame: 6 × 4\n\\begin{tabular}{r|llll}\n  & Diameter & Height & Volume & diameter\\_ft\\\\\n  & <dbl> & <int> & <dbl> & <dbl>\\\\\n\\hline\n\t1 &  8.3 & 70 & 10.3 & 0.691639\\\\\n\t2 &  8.6 & 65 & 10.3 & 0.716638\\\\\n\t3 &  8.8 & 63 & 10.2 & 0.733304\\\\\n\t4 & 10.5 & 72 & 16.4 & 0.874965\\\\\n\t5 & 10.7 & 81 & 18.8 & 0.891631\\\\\n\t6 & 10.8 & 83 & 19.7 & 0.899964\\\\\n\\end{tabular}\n",
            "text/plain": [
              "  Diameter Height Volume diameter_ft\n",
              "1  8.3     70     10.3   0.691639   \n",
              "2  8.6     65     10.3   0.716638   \n",
              "3  8.8     63     10.2   0.733304   \n",
              "4 10.5     72     16.4   0.874965   \n",
              "5 10.7     81     18.8   0.891631   \n",
              "6 10.8     83     19.7   0.899964   "
            ]
          },
          "metadata": {}
        },
        {
          "output_type": "display_data",
          "data": {
            "text/plain": [
              "    Diameter         Height       Volume       diameter_ft    \n",
              " Min.   : 8.30   Min.   :63   Min.   :10.20   Min.   :0.6916  \n",
              " 1st Qu.:11.05   1st Qu.:72   1st Qu.:19.40   1st Qu.:0.9208  \n",
              " Median :12.90   Median :76   Median :24.20   Median :1.0750  \n",
              " Mean   :13.25   Mean   :76   Mean   :30.17   Mean   :1.1040  \n",
              " 3rd Qu.:15.25   3rd Qu.:80   3rd Qu.:37.30   3rd Qu.:1.2708  \n",
              " Max.   :20.60   Max.   :87   Max.   :77.00   Max.   :1.7166  "
            ]
          },
          "metadata": {}
        },
        {
          "output_type": "display_data",
          "data": {
            "text/html": [
              "<table class=\"dataframe\">\n",
              "<caption>A matrix: 31 × 4 of type lgl</caption>\n",
              "<thead>\n",
              "\t<tr><th scope=col>Diameter</th><th scope=col>Height</th><th scope=col>Volume</th><th scope=col>diameter_ft</th></tr>\n",
              "</thead>\n",
              "<tbody>\n",
              "\t<tr><td>FALSE</td><td>FALSE</td><td>FALSE</td><td>FALSE</td></tr>\n",
              "\t<tr><td>FALSE</td><td>FALSE</td><td>FALSE</td><td>FALSE</td></tr>\n",
              "\t<tr><td>FALSE</td><td>FALSE</td><td>FALSE</td><td>FALSE</td></tr>\n",
              "\t<tr><td>FALSE</td><td>FALSE</td><td>FALSE</td><td>FALSE</td></tr>\n",
              "\t<tr><td>FALSE</td><td>FALSE</td><td>FALSE</td><td>FALSE</td></tr>\n",
              "\t<tr><td>FALSE</td><td>FALSE</td><td>FALSE</td><td>FALSE</td></tr>\n",
              "\t<tr><td>FALSE</td><td>FALSE</td><td>FALSE</td><td>FALSE</td></tr>\n",
              "\t<tr><td>FALSE</td><td>FALSE</td><td>FALSE</td><td>FALSE</td></tr>\n",
              "\t<tr><td>FALSE</td><td>FALSE</td><td>FALSE</td><td>FALSE</td></tr>\n",
              "\t<tr><td>FALSE</td><td>FALSE</td><td>FALSE</td><td>FALSE</td></tr>\n",
              "\t<tr><td>FALSE</td><td>FALSE</td><td>FALSE</td><td>FALSE</td></tr>\n",
              "\t<tr><td>FALSE</td><td>FALSE</td><td>FALSE</td><td>FALSE</td></tr>\n",
              "\t<tr><td>FALSE</td><td>FALSE</td><td>FALSE</td><td>FALSE</td></tr>\n",
              "\t<tr><td>FALSE</td><td>FALSE</td><td>FALSE</td><td>FALSE</td></tr>\n",
              "\t<tr><td>FALSE</td><td>FALSE</td><td>FALSE</td><td>FALSE</td></tr>\n",
              "\t<tr><td>FALSE</td><td>FALSE</td><td>FALSE</td><td>FALSE</td></tr>\n",
              "\t<tr><td>FALSE</td><td>FALSE</td><td>FALSE</td><td>FALSE</td></tr>\n",
              "\t<tr><td>FALSE</td><td>FALSE</td><td>FALSE</td><td>FALSE</td></tr>\n",
              "\t<tr><td>FALSE</td><td>FALSE</td><td>FALSE</td><td>FALSE</td></tr>\n",
              "\t<tr><td>FALSE</td><td>FALSE</td><td>FALSE</td><td>FALSE</td></tr>\n",
              "\t<tr><td>FALSE</td><td>FALSE</td><td>FALSE</td><td>FALSE</td></tr>\n",
              "\t<tr><td>FALSE</td><td>FALSE</td><td>FALSE</td><td>FALSE</td></tr>\n",
              "\t<tr><td>FALSE</td><td>FALSE</td><td>FALSE</td><td>FALSE</td></tr>\n",
              "\t<tr><td>FALSE</td><td>FALSE</td><td>FALSE</td><td>FALSE</td></tr>\n",
              "\t<tr><td>FALSE</td><td>FALSE</td><td>FALSE</td><td>FALSE</td></tr>\n",
              "\t<tr><td>FALSE</td><td>FALSE</td><td>FALSE</td><td>FALSE</td></tr>\n",
              "\t<tr><td>FALSE</td><td>FALSE</td><td>FALSE</td><td>FALSE</td></tr>\n",
              "\t<tr><td>FALSE</td><td>FALSE</td><td>FALSE</td><td>FALSE</td></tr>\n",
              "\t<tr><td>FALSE</td><td>FALSE</td><td>FALSE</td><td>FALSE</td></tr>\n",
              "\t<tr><td>FALSE</td><td>FALSE</td><td>FALSE</td><td>FALSE</td></tr>\n",
              "\t<tr><td>FALSE</td><td>FALSE</td><td>FALSE</td><td>FALSE</td></tr>\n",
              "</tbody>\n",
              "</table>\n"
            ],
            "text/markdown": "\nA matrix: 31 × 4 of type lgl\n\n| Diameter | Height | Volume | diameter_ft |\n|---|---|---|---|\n| FALSE | FALSE | FALSE | FALSE |\n| FALSE | FALSE | FALSE | FALSE |\n| FALSE | FALSE | FALSE | FALSE |\n| FALSE | FALSE | FALSE | FALSE |\n| FALSE | FALSE | FALSE | FALSE |\n| FALSE | FALSE | FALSE | FALSE |\n| FALSE | FALSE | FALSE | FALSE |\n| FALSE | FALSE | FALSE | FALSE |\n| FALSE | FALSE | FALSE | FALSE |\n| FALSE | FALSE | FALSE | FALSE |\n| FALSE | FALSE | FALSE | FALSE |\n| FALSE | FALSE | FALSE | FALSE |\n| FALSE | FALSE | FALSE | FALSE |\n| FALSE | FALSE | FALSE | FALSE |\n| FALSE | FALSE | FALSE | FALSE |\n| FALSE | FALSE | FALSE | FALSE |\n| FALSE | FALSE | FALSE | FALSE |\n| FALSE | FALSE | FALSE | FALSE |\n| FALSE | FALSE | FALSE | FALSE |\n| FALSE | FALSE | FALSE | FALSE |\n| FALSE | FALSE | FALSE | FALSE |\n| FALSE | FALSE | FALSE | FALSE |\n| FALSE | FALSE | FALSE | FALSE |\n| FALSE | FALSE | FALSE | FALSE |\n| FALSE | FALSE | FALSE | FALSE |\n| FALSE | FALSE | FALSE | FALSE |\n| FALSE | FALSE | FALSE | FALSE |\n| FALSE | FALSE | FALSE | FALSE |\n| FALSE | FALSE | FALSE | FALSE |\n| FALSE | FALSE | FALSE | FALSE |\n| FALSE | FALSE | FALSE | FALSE |\n\n",
            "text/latex": "A matrix: 31 × 4 of type lgl\n\\begin{tabular}{llll}\n Diameter & Height & Volume & diameter\\_ft\\\\\n\\hline\n\t FALSE & FALSE & FALSE & FALSE\\\\\n\t FALSE & FALSE & FALSE & FALSE\\\\\n\t FALSE & FALSE & FALSE & FALSE\\\\\n\t FALSE & FALSE & FALSE & FALSE\\\\\n\t FALSE & FALSE & FALSE & FALSE\\\\\n\t FALSE & FALSE & FALSE & FALSE\\\\\n\t FALSE & FALSE & FALSE & FALSE\\\\\n\t FALSE & FALSE & FALSE & FALSE\\\\\n\t FALSE & FALSE & FALSE & FALSE\\\\\n\t FALSE & FALSE & FALSE & FALSE\\\\\n\t FALSE & FALSE & FALSE & FALSE\\\\\n\t FALSE & FALSE & FALSE & FALSE\\\\\n\t FALSE & FALSE & FALSE & FALSE\\\\\n\t FALSE & FALSE & FALSE & FALSE\\\\\n\t FALSE & FALSE & FALSE & FALSE\\\\\n\t FALSE & FALSE & FALSE & FALSE\\\\\n\t FALSE & FALSE & FALSE & FALSE\\\\\n\t FALSE & FALSE & FALSE & FALSE\\\\\n\t FALSE & FALSE & FALSE & FALSE\\\\\n\t FALSE & FALSE & FALSE & FALSE\\\\\n\t FALSE & FALSE & FALSE & FALSE\\\\\n\t FALSE & FALSE & FALSE & FALSE\\\\\n\t FALSE & FALSE & FALSE & FALSE\\\\\n\t FALSE & FALSE & FALSE & FALSE\\\\\n\t FALSE & FALSE & FALSE & FALSE\\\\\n\t FALSE & FALSE & FALSE & FALSE\\\\\n\t FALSE & FALSE & FALSE & FALSE\\\\\n\t FALSE & FALSE & FALSE & FALSE\\\\\n\t FALSE & FALSE & FALSE & FALSE\\\\\n\t FALSE & FALSE & FALSE & FALSE\\\\\n\t FALSE & FALSE & FALSE & FALSE\\\\\n\\end{tabular}\n",
            "text/plain": [
              "      Diameter Height Volume diameter_ft\n",
              " [1,] FALSE    FALSE  FALSE  FALSE      \n",
              " [2,] FALSE    FALSE  FALSE  FALSE      \n",
              " [3,] FALSE    FALSE  FALSE  FALSE      \n",
              " [4,] FALSE    FALSE  FALSE  FALSE      \n",
              " [5,] FALSE    FALSE  FALSE  FALSE      \n",
              " [6,] FALSE    FALSE  FALSE  FALSE      \n",
              " [7,] FALSE    FALSE  FALSE  FALSE      \n",
              " [8,] FALSE    FALSE  FALSE  FALSE      \n",
              " [9,] FALSE    FALSE  FALSE  FALSE      \n",
              "[10,] FALSE    FALSE  FALSE  FALSE      \n",
              "[11,] FALSE    FALSE  FALSE  FALSE      \n",
              "[12,] FALSE    FALSE  FALSE  FALSE      \n",
              "[13,] FALSE    FALSE  FALSE  FALSE      \n",
              "[14,] FALSE    FALSE  FALSE  FALSE      \n",
              "[15,] FALSE    FALSE  FALSE  FALSE      \n",
              "[16,] FALSE    FALSE  FALSE  FALSE      \n",
              "[17,] FALSE    FALSE  FALSE  FALSE      \n",
              "[18,] FALSE    FALSE  FALSE  FALSE      \n",
              "[19,] FALSE    FALSE  FALSE  FALSE      \n",
              "[20,] FALSE    FALSE  FALSE  FALSE      \n",
              "[21,] FALSE    FALSE  FALSE  FALSE      \n",
              "[22,] FALSE    FALSE  FALSE  FALSE      \n",
              "[23,] FALSE    FALSE  FALSE  FALSE      \n",
              "[24,] FALSE    FALSE  FALSE  FALSE      \n",
              "[25,] FALSE    FALSE  FALSE  FALSE      \n",
              "[26,] FALSE    FALSE  FALSE  FALSE      \n",
              "[27,] FALSE    FALSE  FALSE  FALSE      \n",
              "[28,] FALSE    FALSE  FALSE  FALSE      \n",
              "[29,] FALSE    FALSE  FALSE  FALSE      \n",
              "[30,] FALSE    FALSE  FALSE  FALSE      \n",
              "[31,] FALSE    FALSE  FALSE  FALSE      "
            ]
          },
          "metadata": {}
        }
      ]
    },
    {
      "cell_type": "markdown",
      "source": [
        "# **Shapiro Test**"
      ],
      "metadata": {
        "id": "f7faBwLRQlwP"
      }
    },
    {
      "cell_type": "code",
      "source": [
        "#uji normalitas kolom diameter.ft\n",
        "shapiro.test(trees_df$diameter_ft)\n",
        "#uji normalitas kolom Height\n",
        "shapiro.test(trees_df$Height)\n",
        "#uji normalitas kolom Volume\n",
        "shapiro.test(trees_df$Volume)"
      ],
      "metadata": {
        "colab": {
          "base_uri": "https://localhost:8080/",
          "height": 285
        },
        "id": "Rb4pqWhtQvLO",
        "outputId": "836b6f08-d563-490f-c589-4578f8987a39"
      },
      "execution_count": null,
      "outputs": [
        {
          "output_type": "display_data",
          "data": {
            "text/plain": [
              "\n",
              "\tShapiro-Wilk normality test\n",
              "\n",
              "data:  trees_df$diameter_ft\n",
              "W = 0.94117, p-value = 0.08893\n"
            ]
          },
          "metadata": {}
        },
        {
          "output_type": "display_data",
          "data": {
            "text/plain": [
              "\n",
              "\tShapiro-Wilk normality test\n",
              "\n",
              "data:  trees_df$Height\n",
              "W = 0.96545, p-value = 0.4034\n"
            ]
          },
          "metadata": {}
        },
        {
          "output_type": "display_data",
          "data": {
            "text/plain": [
              "\n",
              "\tShapiro-Wilk normality test\n",
              "\n",
              "data:  trees_df$Volume\n",
              "W = 0.88757, p-value = 0.003579\n"
            ]
          },
          "metadata": {}
        }
      ]
    },
    {
      "cell_type": "markdown",
      "source": [
        "# **Visualisasi Sederhana**\n",
        "Buatlah visualisasi sederhana yang menjelaskan distribusi Volume dari dataset yang sudah dikerjakan sebelumnya.\n",
        "\n",
        "Untuk menyelesaikan soal ini, diminta untuk menggunakan density plot dari standar R-base."
      ],
      "metadata": {
        "id": "21HTWpj4QzQS"
      }
    },
    {
      "cell_type": "code",
      "source": [
        "plot(density(trees_df$Volume))"
      ],
      "metadata": {
        "colab": {
          "base_uri": "https://localhost:8080/",
          "height": 437
        },
        "id": "yEr9iSbAQ1E_",
        "outputId": "56c7dcaa-22fb-4a03-a389-1d4b22cc02d8"
      },
      "execution_count": null,
      "outputs": [
        {
          "output_type": "display_data",
          "data": {
            "text/plain": [
              "Plot with title “density(x = trees_df$Volume)”"
            ],
            "image/png": "[encoded data removed]"
          },
          "metadata": {
            "image/png": {
              "width": 420,
              "height": 420
            }
          }
        }
      ]
    },
    {
      "cell_type": "markdown",
      "source": [
        "# **Mencari Hubungan**\n",
        "Bagaimanakah hubungan antara Volume batang pohon Cherry dengan diameter dan ketinggian (height)?\n",
        "\n",
        "Gunakan pula visualisasi sederhana untuk menjelaskan hubungan tersebut."
      ],
      "metadata": {
        "id": "PxZ51du5Q4xZ"
      }
    },
    {
      "cell_type": "code",
      "source": [
        "lm(formula = Volume ~ Height + diameter_ft, data = trees_df)\n",
        "plot(trees_df$diameter_ft, trees_df$Volume)\n",
        "plot(trees_df$Height, trees_df$Volume)"
      ],
      "metadata": {
        "colab": {
          "base_uri": "https://localhost:8080/",
          "height": 982
        },
        "id": "rljZrgKRQ6oS",
        "outputId": "b60cf11b-a145-44a7-c3f2-7ad682da8aec"
      },
      "execution_count": null,
      "outputs": [
        {
          "output_type": "display_data",
          "data": {
            "text/plain": [
              "\n",
              "Call:\n",
              "lm(formula = Volume ~ Height + diameter_ft, data = trees_df)\n",
              "\n",
              "Coefficients:\n",
              "(Intercept)       Height  diameter_ft  \n",
              "   -57.9877       0.3393      56.5002  \n"
            ]
          },
          "metadata": {}
        },
        {
          "output_type": "display_data",
          "data": {
            "text/plain": [
              "plot without title"
            ],
            "image/png": "[encoded data removed]"
          },
          "metadata": {
            "image/png": {
              "width": 420,
              "height": 420
            }
          }
        },
        {
          "output_type": "display_data",
          "data": {
            "text/plain": [
              "plot without title"
            ],
            "image/png": "[encoded data removed]"
          },
          "metadata": {
            "image/png": {
              "width": 420,
              "height": 420
            }
          }
        }
      ]
    },
    {
      "cell_type": "markdown",
      "source": [
        "# **Chapter 3: Problem Statement #2**"
      ],
      "metadata": {
        "id": "uH7EVvT4RCPq"
      }
    },
    {
      "cell_type": "markdown",
      "source": [
        "# **Analisa Efek Pemberian Obat Tidur**\n",
        "Selanjutnya, kamu diminta untuk menganalisa efek pemberian obat tidur terhadap peningkatan lamanya waktu tidur dari sekelompok mahasiswa. Berikut preview dari observasi tersebut :\n",
        "\n",
        "![Problem Statement](https://drive.google.com/uc?export=view&id=1GPHaMJdKiENoURcpKXY9G9CtK_2TujSY)\n",
        "\n",
        "\n",
        "> * Extra = peningkatan waktu tidur dalam satuan jam (hour) – numeric\n",
        "\n",
        "> * Group = jenis treatment/dosis obat yang diberikan – factor\n",
        "\n",
        "> * ID = ID mahasiswa yang diobservasi – factor\n",
        "\n",
        "\n",
        "\n",
        "Jika diasumsikan data hasil observasi tersebut terdistribusi normal, lakukanlah uji hipotesis untuk mengetahui apakah terdapat perbedaan efek antara group 1 dan group 2.\n",
        "\n",
        "> * H0 = Tidak ada perbedaan efek antara group 1 dan group 2\n",
        "> * H1 = Terdapat perbedaan efek group 1 dan group 2\n",
        "\n",
        "**Cara 1 :**\n",
        "\n",
        "```\n",
        "# Load library & datasetinstall.packages(\"tidyverse\") #install in backendlibrary(readr) #pre-definedlibrary(dplyr) #pre-defined sleep_df <- read_csv('https://storage.googleapis.com/dqlab-dataset/sleep.csv') #pre-defined # Save the data in two different dataframe/vectorgroup1 <- filter(sleep_df, sleep_df$group == 1)group2 <- filter(sleep_df, sleep_df$group == 2) # Compute t-testt_test <- t.test(group1$extra, group2$extra)t_test\n",
        "```\n",
        "\n",
        "\n",
        "**Cara 2 :**\n",
        "\n",
        "```\n",
        " # Load library & dataset\n",
        "\n",
        "install.packages(\"tidyverse\")library(readr) #pre-defined sleep_df <- read_csv('sleep.csv') #pre-defined # Directly compute t-test without save it in 2 different dataframe/vectort_test <- t.test(extra ~ group, data = sleep_df)t_test\n",
        "```\n",
        "\n"
      ],
      "metadata": {
        "id": "DU1t3XevRLkz"
      }
    },
    {
      "cell_type": "code",
      "source": [
        "library(readr) #pre-defined\n",
        "library(dplyr) #pre-defined\n",
        "\n",
        "sleep_df <- read_csv('https://storage.googleapis.com/dqlab-dataset/sleep.csv') #pre-defined\n",
        "\n",
        "# Save the data in two different dataframe/vector\n",
        "group1 <- filter(sleep_df, sleep_df$group == 1)\n",
        "group2 <- filter(sleep_df, sleep_df$group == 2)\n",
        "\n",
        "# Compute t-test\n",
        "t_test <- t.test(group1$extra, group2$extra)\n",
        "t_test"
      ],
      "metadata": {
        "colab": {
          "base_uri": "https://localhost:8080/",
          "height": 589
        },
        "id": "t8n00ECzRFZL",
        "outputId": "08d887f6-1301-4584-c4e8-e834ef31c3b6"
      },
      "execution_count": null,
      "outputs": [
        {
          "output_type": "stream",
          "name": "stderr",
          "text": [
            "\n",
            "Attaching package: ‘dplyr’\n",
            "\n",
            "\n",
            "The following objects are masked from ‘package:stats’:\n",
            "\n",
            "    filter, lag\n",
            "\n",
            "\n",
            "The following objects are masked from ‘package:base’:\n",
            "\n",
            "    intersect, setdiff, setequal, union\n",
            "\n",
            "\n",
            "\u001b[1mRows: \u001b[22m\u001b[34m20\u001b[39m \u001b[1mColumns: \u001b[22m\u001b[34m3\u001b[39m\n",
            "\u001b[36m──\u001b[39m \u001b[1mColumn specification\u001b[22m \u001b[36m────────────────────────────────────────────────────────\u001b[39m\n",
            "\u001b[1mDelimiter:\u001b[22m \",\"\n",
            "\u001b[32mdbl\u001b[39m (3): extra, group, ID\n",
            "\n",
            "\u001b[36mℹ\u001b[39m Use `spec()` to retrieve the full column specification for this data.\n",
            "\u001b[36mℹ\u001b[39m Specify the column types or set `show_col_types = FALSE` to quiet this message.\n"
          ]
        },
        {
          "output_type": "display_data",
          "data": {
            "text/plain": [
              "\n",
              "\tWelch Two Sample t-test\n",
              "\n",
              "data:  group1$extra and group2$extra\n",
              "t = -1.8608, df = 17.776, p-value = 0.07939\n",
              "alternative hypothesis: true difference in means is not equal to 0\n",
              "95 percent confidence interval:\n",
              " -3.3654832  0.2054832\n",
              "sample estimates:\n",
              "mean of x mean of y \n",
              "     0.75      2.33 \n"
            ]
          },
          "metadata": {}
        }
      ]
    },
    {
      "cell_type": "markdown",
      "source": [
        "# **Menghasilkan Grafik - Boxplot**"
      ],
      "metadata": {
        "id": "R-v3ICFdSaQB"
      }
    },
    {
      "cell_type": "code",
      "source": [
        "library(ggplot2)\n",
        "ggplot(sleep_df, aes(x=as.character(group), y=extra, fill=as.character(group))) + geom_boxplot()\n"
      ],
      "metadata": {
        "colab": {
          "base_uri": "https://localhost:8080/",
          "height": 437
        },
        "id": "T7JFsTxoSbMU",
        "outputId": "8138e464-2609-43c3-b2b1-311e3f8c4102"
      },
      "execution_count": null,
      "outputs": [
        {
          "output_type": "display_data",
          "data": {
            "text/plain": [
              "plot without title"
            ],
            "image/png": "[encoded data removed]"
          },
          "metadata": {
            "image/png": {
              "width": 420,
              "height": 420
            }
          }
        }
      ]
    },
    {
      "cell_type": "markdown",
      "source": [
        "# **Chapter 4: Machine Learning with R**"
      ],
      "metadata": {
        "id": "JbNdCPwdSf7O"
      }
    },
    {
      "cell_type": "markdown",
      "source": [
        "# **Membuat Model Sederhana**\n",
        "Dataset https://storage.googleapis.com/dqlab-dataset/electric_bill.csv berikut menyajikan informasi terkait biaya listrik rumah tangga di suatu negara.\n",
        "\n",
        "Dari data tersebut anda ingin mengetahui faktor – faktor apa saja yang mempengaruhi total biaya listrik di setiap rumah tangga.\n",
        "\n",
        "Buatlah model sederhana yang dapat menjelaskan bagaimana pengaruh \"num_people\" dan \"housearea\" terhadap \"amount_paid\"!\n",
        "\n"
      ],
      "metadata": {
        "id": "B3RFXgamSmC5"
      }
    },
    {
      "cell_type": "code",
      "source": [
        "library(readr)\n",
        "electric_bill <- read_csv(\"https://storage.googleapis.com/dqlab-dataset/electric_bill.csv\")\n",
        "model <- lm(amount_paid ~  num_people + housearea, data=electric_bill)\n",
        "\n",
        "model"
      ],
      "metadata": {
        "colab": {
          "base_uri": "https://localhost:8080/",
          "height": 267
        },
        "id": "Bu42TG89SlWT",
        "outputId": "af7efea6-53d9-4431-92ec-2d03d6f4397d"
      },
      "execution_count": null,
      "outputs": [
        {
          "output_type": "stream",
          "name": "stderr",
          "text": [
            "\u001b[1mRows: \u001b[22m\u001b[34m1000\u001b[39m \u001b[1mColumns: \u001b[22m\u001b[34m10\u001b[39m\n",
            "\u001b[36m──\u001b[39m \u001b[1mColumn specification\u001b[22m \u001b[36m────────────────────────────────────────────────────────\u001b[39m\n",
            "\u001b[1mDelimiter:\u001b[22m \",\"\n",
            "\u001b[32mdbl\u001b[39m (10): num_rooms, num_people, housearea, is_ac, is_tv, is_flat, ave_month...\n",
            "\n",
            "\u001b[36mℹ\u001b[39m Use `spec()` to retrieve the full column specification for this data.\n",
            "\u001b[36mℹ\u001b[39m Specify the column types or set `show_col_types = FALSE` to quiet this message.\n"
          ]
        },
        {
          "output_type": "display_data",
          "data": {
            "text/plain": [
              "\n",
              "Call:\n",
              "lm(formula = amount_paid ~ num_people + housearea, data = electric_bill)\n",
              "\n",
              "Coefficients:\n",
              "(Intercept)   num_people    housearea  \n",
              "    482.920        4.834        0.118  \n"
            ]
          },
          "metadata": {}
        }
      ]
    },
    {
      "cell_type": "markdown",
      "source": [
        "# **Training dan Testing**\n",
        "Dalam membuat model machine learning, dataset perlu dibagi ke dalam Training dan Testing set. Salah satu library yang digunakan adalah caret. Dengan menggunakan Iris dataset yang sudah di-load dan library caret, buatlah syntax untuk membagi dataset tersebut ke dalam training set (80%) dan testing dataset (20%)!"
      ],
      "metadata": {
        "id": "sbuUN2bkSrej"
      }
    },
    {
      "cell_type": "code",
      "source": [
        "install.packages(\"caret\")\n",
        "install.packages(\"readr\")"
      ],
      "metadata": {
        "colab": {
          "base_uri": "https://localhost:8080/"
        },
        "id": "pXzOB46DaRCO",
        "outputId": "ed5680a5-4469-417c-8c0a-b46acf402f79"
      },
      "execution_count": null,
      "outputs": [
        {
          "output_type": "stream",
          "name": "stderr",
          "text": [
            "Installing package into ‘/usr/local/lib/R/site-library’\n",
            "(as ‘lib’ is unspecified)\n",
            "\n",
            "also installing the dependencies ‘listenv’, ‘parallelly’, ‘future’, ‘globals’, ‘shape’, ‘future.apply’, ‘numDeriv’, ‘progressr’, ‘SQUAREM’, ‘diagram’, ‘lava’, ‘prodlim’, ‘proxy’, ‘iterators’, ‘Rcpp’, ‘clock’, ‘gower’, ‘hardhat’, ‘ipred’, ‘timeDate’, ‘e1071’, ‘foreach’, ‘ModelMetrics’, ‘plyr’, ‘pROC’, ‘recipes’, ‘reshape2’\n",
            "\n",
            "\n",
            "Installing package into ‘/usr/local/lib/R/site-library’\n",
            "(as ‘lib’ is unspecified)\n",
            "\n"
          ]
        }
      ]
    },
    {
      "cell_type": "code",
      "source": [
        "library(readr)\n",
        "library(caret)\n",
        "set.seed(123)\n",
        "iris <- read_csv(\"https://storage.googleapis.com/dqlab-dataset/iris.csv\")\n",
        "\n",
        "trainIndex <- createDataPartition(iris$Species, p=0.8, list=FALSE)\n",
        "training_set <- iris[trainIndex, ]\n",
        "testing_set <- iris[-trainIndex, ]\n",
        "\n",
        "dim(training_set)\n",
        "dim(testing_set)"
      ],
      "metadata": {
        "id": "QeASaUM8St0X",
        "colab": {
          "base_uri": "https://localhost:8080/",
          "height": 266
        },
        "outputId": "e888f685-bd57-4f58-9826-e88bc8816e81"
      },
      "execution_count": null,
      "outputs": [
        {
          "output_type": "stream",
          "name": "stderr",
          "text": [
            "Loading required package: ggplot2\n",
            "\n",
            "Loading required package: lattice\n",
            "\n",
            "\u001b[1mRows: \u001b[22m\u001b[34m150\u001b[39m \u001b[1mColumns: \u001b[22m\u001b[34m5\u001b[39m\n",
            "\u001b[36m──\u001b[39m \u001b[1mColumn specification\u001b[22m \u001b[36m────────────────────────────────────────────────────────\u001b[39m\n",
            "\u001b[1mDelimiter:\u001b[22m \",\"\n",
            "\u001b[31mchr\u001b[39m (1): Species\n",
            "\u001b[32mdbl\u001b[39m (4): Sepal.Length, Sepal.Width, Petal.Length, Petal.Width\n",
            "\n",
            "\u001b[36mℹ\u001b[39m Use `spec()` to retrieve the full column specification for this data.\n",
            "\u001b[36mℹ\u001b[39m Specify the column types or set `show_col_types = FALSE` to quiet this message.\n"
          ]
        },
        {
          "output_type": "display_data",
          "data": {
            "text/html": [
              "<style>\n",
              ".list-inline {list-style: none; margin:0; padding: 0}\n",
              ".list-inline>li {display: inline-block}\n",
              ".list-inline>li:not(:last-child)::after {content: \"\\00b7\"; padding: 0 .5ex}\n",
              "</style>\n",
              "<ol class=list-inline><li>120</li><li>5</li></ol>\n"
            ],
            "text/markdown": "1. 120\n2. 5\n\n\n",
            "text/latex": "\\begin{enumerate*}\n\\item 120\n\\item 5\n\\end{enumerate*}\n",
            "text/plain": [
              "[1] 120   5"
            ]
          },
          "metadata": {}
        },
        {
          "output_type": "display_data",
          "data": {
            "text/html": [
              "<style>\n",
              ".list-inline {list-style: none; margin:0; padding: 0}\n",
              ".list-inline>li {display: inline-block}\n",
              ".list-inline>li:not(:last-child)::after {content: \"\\00b7\"; padding: 0 .5ex}\n",
              "</style>\n",
              "<ol class=list-inline><li>30</li><li>5</li></ol>\n"
            ],
            "text/markdown": "1. 30\n2. 5\n\n\n",
            "text/latex": "\\begin{enumerate*}\n\\item 30\n\\item 5\n\\end{enumerate*}\n",
            "text/plain": [
              "[1] 30  5"
            ]
          },
          "metadata": {}
        }
      ]
    },
    {
      "cell_type": "markdown",
      "source": [
        "# **Model Decision Tree**\n",
        "Dataset https://storage.googleapis.com/dqlab-dataset/suv_data.csv berikut menyajikan informasi terkait profil customer yang pernah membeli mobil keluaran terbaru.\n",
        "\n",
        "Dataset ini perlu dibagi ke dalam training set dan testing set, dan buatlah machine learning model dengan menggunakan Decision tree untuk memprediksi customer yang tertarik membeli mobil keluaran terbaru, serta evaluasi performance dari kedua model tersebut."
      ],
      "metadata": {
        "id": "7BQPswYzTA5Y"
      }
    },
    {
      "cell_type": "code",
      "source": [
        "library(caret) #pre-defined\n",
        "library(rpart) #pre-defined\n",
        "library(readr) #pre-defined\n",
        "set.seed(123)  #pre-defined\n",
        "\n",
        "suv_data <- read_csv(\"https://storage.googleapis.com/dqlab-dataset/suv_data.csv\") #pre-defined\n",
        "\n",
        "#split data to training & testing set\n",
        "trainIndex <- createDataPartition(suv_data$Purchased, p=0.8, list=FALSE)\n",
        "training_set <- suv_data[trainIndex, ]\n",
        "testing_set <- suv_data[-trainIndex, ]\n",
        "\n",
        "#build model with decision tree\n",
        "model_dt <- rpart(Purchased ~ ., data = training_set, method=\"class\")\n",
        "predictions_dt <- predict(model_dt, newdata = testing_set, type = \"class\")\n",
        "\n",
        "#evaluate performance with new data/ testing_set\n",
        "testing_purchased <- factor(testing_set$Purchased) #pre-defined\n",
        "\n",
        "#show the evaluation result\n",
        "evaluation_result <- confusionMatrix(predictions_dt,testing_purchased)\n",
        "evaluation_result\n"
      ],
      "metadata": {
        "id": "WPYv7rjHTDPq",
        "colab": {
          "base_uri": "https://localhost:8080/",
          "height": 642
        },
        "outputId": "54a8b4d1-ac31-4bd0-8ee0-46469e004a8a"
      },
      "execution_count": null,
      "outputs": [
        {
          "output_type": "stream",
          "name": "stderr",
          "text": [
            "\u001b[1mRows: \u001b[22m\u001b[34m400\u001b[39m \u001b[1mColumns: \u001b[22m\u001b[34m4\u001b[39m\n",
            "\u001b[36m──\u001b[39m \u001b[1mColumn specification\u001b[22m \u001b[36m────────────────────────────────────────────────────────\u001b[39m\n",
            "\u001b[1mDelimiter:\u001b[22m \",\"\n",
            "\u001b[31mchr\u001b[39m (1): Gender\n",
            "\u001b[32mdbl\u001b[39m (3): Age, EstimatedSalary, Purchased\n",
            "\n",
            "\u001b[36mℹ\u001b[39m Use `spec()` to retrieve the full column specification for this data.\n",
            "\u001b[36mℹ\u001b[39m Specify the column types or set `show_col_types = FALSE` to quiet this message.\n"
          ]
        },
        {
          "output_type": "display_data",
          "data": {
            "text/plain": [
              "Confusion Matrix and Statistics\n",
              "\n",
              "          Reference\n",
              "Prediction  0  1\n",
              "         0 53  1\n",
              "         1  5 21\n",
              "                                         \n",
              "               Accuracy : 0.925          \n",
              "                 95% CI : (0.8439, 0.972)\n",
              "    No Information Rate : 0.725          \n",
              "    P-Value [Acc > NIR] : 7.53e-06       \n",
              "                                         \n",
              "                  Kappa : 0.822          \n",
              "                                         \n",
              " Mcnemar's Test P-Value : 0.2207         \n",
              "                                         \n",
              "            Sensitivity : 0.9138         \n",
              "            Specificity : 0.9545         \n",
              "         Pos Pred Value : 0.9815         \n",
              "         Neg Pred Value : 0.8077         \n",
              "             Prevalence : 0.7250         \n",
              "         Detection Rate : 0.6625         \n",
              "   Detection Prevalence : 0.6750         \n",
              "      Balanced Accuracy : 0.9342         \n",
              "                                         \n",
              "       'Positive' Class : 0              \n",
              "                                         "
            ]
          },
          "metadata": {}
        }
      ]
    }
  ]
}